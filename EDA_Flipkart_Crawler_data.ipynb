{
  "nbformat": 4,
  "nbformat_minor": 0,
  "metadata": {
    "colab": {
      "name": "EDA Flipkart Crawler data.ipynb",
      "provenance": [],
      "collapsed_sections": [],
      "mount_file_id": "1WAcY7vbx40QfMcEFbRYFZ9CuNf4isL_4",
      "authorship_tag": "ABX9TyMSMkZpHvNrbxmQS/cDRKmE",
      "include_colab_link": true
    },
    "kernelspec": {
      "name": "python3",
      "display_name": "Python 3"
    }
  },
  "cells": [
    {
      "cell_type": "markdown",
      "metadata": {
        "id": "view-in-github",
        "colab_type": "text"
      },
      "source": [
        "<a href=\"https://colab.research.google.com/github/frankgeorge/EDA---Flipkart-Crawler-data/blob/master/EDA_Flipkart_Crawler_data.ipynb\" target=\"_parent\"><img src=\"https://colab.research.google.com/assets/colab-badge.svg\" alt=\"Open In Colab\"/></a>"
      ]
    },
    {
      "cell_type": "code",
      "metadata": {
        "id": "hlXslgyXwn9Q"
      },
      "source": [
        "#install dependencies\r\n",
        "import pandas as pd\r\n",
        "import matplotlib.pyplot as plt\r\n",
        "import seaborn as sns\r\n",
        "%matplotlib inline"
      ],
      "execution_count": 4,
      "outputs": []
    },
    {
      "cell_type": "code",
      "metadata": {
        "id": "sR8YE1x4wxq9"
      },
      "source": [
        "#load data\r\n",
        "df = pd.read_csv('/content/drive/MyDrive/ecommerce.csv')"
      ],
      "execution_count": 5,
      "outputs": []
    },
    {
      "cell_type": "code",
      "metadata": {
        "colab": {
          "base_uri": "https://localhost:8080/"
        },
        "id": "CfyljZYsw10n",
        "outputId": "ccb5d894-6ef6-478c-ad49-ef557998e881"
      },
      "source": [
        "df.shape"
      ],
      "execution_count": 6,
      "outputs": [
        {
          "output_type": "execute_result",
          "data": {
            "text/plain": [
              "(20000, 15)"
            ]
          },
          "metadata": {
            "tags": []
          },
          "execution_count": 6
        }
      ]
    },
    {
      "cell_type": "code",
      "metadata": {
        "colab": {
          "base_uri": "https://localhost:8080/",
          "height": 475
        },
        "id": "n0XlHWqDw4AP",
        "outputId": "bfbe4bb8-bd3d-4847-a6b9-467f03c9c135"
      },
      "source": [
        "df.head()"
      ],
      "execution_count": 7,
      "outputs": [
        {
          "output_type": "execute_result",
          "data": {
            "text/html": [
              "<div>\n",
              "<style scoped>\n",
              "    .dataframe tbody tr th:only-of-type {\n",
              "        vertical-align: middle;\n",
              "    }\n",
              "\n",
              "    .dataframe tbody tr th {\n",
              "        vertical-align: top;\n",
              "    }\n",
              "\n",
              "    .dataframe thead th {\n",
              "        text-align: right;\n",
              "    }\n",
              "</style>\n",
              "<table border=\"1\" class=\"dataframe\">\n",
              "  <thead>\n",
              "    <tr style=\"text-align: right;\">\n",
              "      <th></th>\n",
              "      <th>uniq_id</th>\n",
              "      <th>crawl_timestamp</th>\n",
              "      <th>product_url</th>\n",
              "      <th>product_name</th>\n",
              "      <th>product_category_tree</th>\n",
              "      <th>pid</th>\n",
              "      <th>retail_price</th>\n",
              "      <th>discounted_price</th>\n",
              "      <th>image</th>\n",
              "      <th>is_FK_Advantage_product</th>\n",
              "      <th>description</th>\n",
              "      <th>product_rating</th>\n",
              "      <th>overall_rating</th>\n",
              "      <th>brand</th>\n",
              "      <th>product_specifications</th>\n",
              "    </tr>\n",
              "  </thead>\n",
              "  <tbody>\n",
              "    <tr>\n",
              "      <th>0</th>\n",
              "      <td>c2d766ca982eca8304150849735ffef9</td>\n",
              "      <td>2016-03-25 22:59:23 +0000</td>\n",
              "      <td>http://www.flipkart.com/alisha-solid-women-s-c...</td>\n",
              "      <td>Alisha Solid Women's Cycling Shorts</td>\n",
              "      <td>[\"Clothing &gt;&gt; Women's Clothing &gt;&gt; Lingerie, Sl...</td>\n",
              "      <td>SRTEH2FF9KEDEFGF</td>\n",
              "      <td>999.0</td>\n",
              "      <td>379.0</td>\n",
              "      <td>[\"http://img5a.flixcart.com/image/short/u/4/a/...</td>\n",
              "      <td>False</td>\n",
              "      <td>Key Features of Alisha Solid Women's Cycling S...</td>\n",
              "      <td>No rating available</td>\n",
              "      <td>No rating available</td>\n",
              "      <td>Alisha</td>\n",
              "      <td>{\"product_specification\"=&gt;[{\"key\"=&gt;\"Number of ...</td>\n",
              "    </tr>\n",
              "    <tr>\n",
              "      <th>1</th>\n",
              "      <td>7f7036a6d550aaa89d34c77bd39a5e48</td>\n",
              "      <td>2016-03-25 22:59:23 +0000</td>\n",
              "      <td>http://www.flipkart.com/fabhomedecor-fabric-do...</td>\n",
              "      <td>FabHomeDecor Fabric Double Sofa Bed</td>\n",
              "      <td>[\"Furniture &gt;&gt; Living Room Furniture &gt;&gt; Sofa B...</td>\n",
              "      <td>SBEEH3QGU7MFYJFY</td>\n",
              "      <td>32157.0</td>\n",
              "      <td>22646.0</td>\n",
              "      <td>[\"http://img6a.flixcart.com/image/sofa-bed/j/f...</td>\n",
              "      <td>False</td>\n",
              "      <td>FabHomeDecor Fabric Double Sofa Bed (Finish Co...</td>\n",
              "      <td>No rating available</td>\n",
              "      <td>No rating available</td>\n",
              "      <td>FabHomeDecor</td>\n",
              "      <td>{\"product_specification\"=&gt;[{\"key\"=&gt;\"Installati...</td>\n",
              "    </tr>\n",
              "    <tr>\n",
              "      <th>2</th>\n",
              "      <td>f449ec65dcbc041b6ae5e6a32717d01b</td>\n",
              "      <td>2016-03-25 22:59:23 +0000</td>\n",
              "      <td>http://www.flipkart.com/aw-bellies/p/itmeh4grg...</td>\n",
              "      <td>AW Bellies</td>\n",
              "      <td>[\"Footwear &gt;&gt; Women's Footwear &gt;&gt; Ballerinas &gt;...</td>\n",
              "      <td>SHOEH4GRSUBJGZXE</td>\n",
              "      <td>999.0</td>\n",
              "      <td>499.0</td>\n",
              "      <td>[\"http://img5a.flixcart.com/image/shoe/7/z/z/r...</td>\n",
              "      <td>False</td>\n",
              "      <td>Key Features of AW Bellies Sandals Wedges Heel...</td>\n",
              "      <td>No rating available</td>\n",
              "      <td>No rating available</td>\n",
              "      <td>AW</td>\n",
              "      <td>{\"product_specification\"=&gt;[{\"key\"=&gt;\"Ideal For\"...</td>\n",
              "    </tr>\n",
              "    <tr>\n",
              "      <th>3</th>\n",
              "      <td>0973b37acd0c664e3de26e97e5571454</td>\n",
              "      <td>2016-03-25 22:59:23 +0000</td>\n",
              "      <td>http://www.flipkart.com/alisha-solid-women-s-c...</td>\n",
              "      <td>Alisha Solid Women's Cycling Shorts</td>\n",
              "      <td>[\"Clothing &gt;&gt; Women's Clothing &gt;&gt; Lingerie, Sl...</td>\n",
              "      <td>SRTEH2F6HUZMQ6SJ</td>\n",
              "      <td>699.0</td>\n",
              "      <td>267.0</td>\n",
              "      <td>[\"http://img5a.flixcart.com/image/short/6/2/h/...</td>\n",
              "      <td>False</td>\n",
              "      <td>Key Features of Alisha Solid Women's Cycling S...</td>\n",
              "      <td>No rating available</td>\n",
              "      <td>No rating available</td>\n",
              "      <td>Alisha</td>\n",
              "      <td>{\"product_specification\"=&gt;[{\"key\"=&gt;\"Number of ...</td>\n",
              "    </tr>\n",
              "    <tr>\n",
              "      <th>4</th>\n",
              "      <td>bc940ea42ee6bef5ac7cea3fb5cfbee7</td>\n",
              "      <td>2016-03-25 22:59:23 +0000</td>\n",
              "      <td>http://www.flipkart.com/sicons-all-purpose-arn...</td>\n",
              "      <td>Sicons All Purpose Arnica Dog Shampoo</td>\n",
              "      <td>[\"Pet Supplies &gt;&gt; Grooming &gt;&gt; Skin &amp; Coat Care...</td>\n",
              "      <td>PSOEH3ZYDMSYARJ5</td>\n",
              "      <td>220.0</td>\n",
              "      <td>210.0</td>\n",
              "      <td>[\"http://img5a.flixcart.com/image/pet-shampoo/...</td>\n",
              "      <td>False</td>\n",
              "      <td>Specifications of Sicons All Purpose Arnica Do...</td>\n",
              "      <td>No rating available</td>\n",
              "      <td>No rating available</td>\n",
              "      <td>Sicons</td>\n",
              "      <td>{\"product_specification\"=&gt;[{\"key\"=&gt;\"Pet Type\",...</td>\n",
              "    </tr>\n",
              "  </tbody>\n",
              "</table>\n",
              "</div>"
            ],
            "text/plain": [
              "                            uniq_id  ...                             product_specifications\n",
              "0  c2d766ca982eca8304150849735ffef9  ...  {\"product_specification\"=>[{\"key\"=>\"Number of ...\n",
              "1  7f7036a6d550aaa89d34c77bd39a5e48  ...  {\"product_specification\"=>[{\"key\"=>\"Installati...\n",
              "2  f449ec65dcbc041b6ae5e6a32717d01b  ...  {\"product_specification\"=>[{\"key\"=>\"Ideal For\"...\n",
              "3  0973b37acd0c664e3de26e97e5571454  ...  {\"product_specification\"=>[{\"key\"=>\"Number of ...\n",
              "4  bc940ea42ee6bef5ac7cea3fb5cfbee7  ...  {\"product_specification\"=>[{\"key\"=>\"Pet Type\",...\n",
              "\n",
              "[5 rows x 15 columns]"
            ]
          },
          "metadata": {
            "tags": []
          },
          "execution_count": 7
        }
      ]
    },
    {
      "cell_type": "code",
      "metadata": {
        "colab": {
          "base_uri": "https://localhost:8080/",
          "height": 291
        },
        "id": "hTbi8fN8w9O4",
        "outputId": "46e43ef7-93fe-4164-c7bd-34de39a0f87b"
      },
      "source": [
        "df.describe()"
      ],
      "execution_count": 8,
      "outputs": [
        {
          "output_type": "execute_result",
          "data": {
            "text/html": [
              "<div>\n",
              "<style scoped>\n",
              "    .dataframe tbody tr th:only-of-type {\n",
              "        vertical-align: middle;\n",
              "    }\n",
              "\n",
              "    .dataframe tbody tr th {\n",
              "        vertical-align: top;\n",
              "    }\n",
              "\n",
              "    .dataframe thead th {\n",
              "        text-align: right;\n",
              "    }\n",
              "</style>\n",
              "<table border=\"1\" class=\"dataframe\">\n",
              "  <thead>\n",
              "    <tr style=\"text-align: right;\">\n",
              "      <th></th>\n",
              "      <th>retail_price</th>\n",
              "      <th>discounted_price</th>\n",
              "    </tr>\n",
              "  </thead>\n",
              "  <tbody>\n",
              "    <tr>\n",
              "      <th>count</th>\n",
              "      <td>19922.000000</td>\n",
              "      <td>19922.000000</td>\n",
              "    </tr>\n",
              "    <tr>\n",
              "      <th>mean</th>\n",
              "      <td>2979.206104</td>\n",
              "      <td>1973.401767</td>\n",
              "    </tr>\n",
              "    <tr>\n",
              "      <th>std</th>\n",
              "      <td>9009.639341</td>\n",
              "      <td>7333.586040</td>\n",
              "    </tr>\n",
              "    <tr>\n",
              "      <th>min</th>\n",
              "      <td>35.000000</td>\n",
              "      <td>35.000000</td>\n",
              "    </tr>\n",
              "    <tr>\n",
              "      <th>25%</th>\n",
              "      <td>666.000000</td>\n",
              "      <td>350.000000</td>\n",
              "    </tr>\n",
              "    <tr>\n",
              "      <th>50%</th>\n",
              "      <td>1040.000000</td>\n",
              "      <td>550.000000</td>\n",
              "    </tr>\n",
              "    <tr>\n",
              "      <th>75%</th>\n",
              "      <td>1999.000000</td>\n",
              "      <td>999.000000</td>\n",
              "    </tr>\n",
              "    <tr>\n",
              "      <th>max</th>\n",
              "      <td>571230.000000</td>\n",
              "      <td>571230.000000</td>\n",
              "    </tr>\n",
              "  </tbody>\n",
              "</table>\n",
              "</div>"
            ],
            "text/plain": [
              "        retail_price  discounted_price\n",
              "count   19922.000000      19922.000000\n",
              "mean     2979.206104       1973.401767\n",
              "std      9009.639341       7333.586040\n",
              "min        35.000000         35.000000\n",
              "25%       666.000000        350.000000\n",
              "50%      1040.000000        550.000000\n",
              "75%      1999.000000        999.000000\n",
              "max    571230.000000     571230.000000"
            ]
          },
          "metadata": {
            "tags": []
          },
          "execution_count": 8
        }
      ]
    },
    {
      "cell_type": "code",
      "metadata": {
        "colab": {
          "base_uri": "https://localhost:8080/"
        },
        "id": "cyeZKQ1bw_jo",
        "outputId": "897ee309-4f24-4893-897e-b2693c1868ab"
      },
      "source": [
        "df.info()"
      ],
      "execution_count": 9,
      "outputs": [
        {
          "output_type": "stream",
          "text": [
            "<class 'pandas.core.frame.DataFrame'>\n",
            "RangeIndex: 20000 entries, 0 to 19999\n",
            "Data columns (total 15 columns):\n",
            " #   Column                   Non-Null Count  Dtype  \n",
            "---  ------                   --------------  -----  \n",
            " 0   uniq_id                  20000 non-null  object \n",
            " 1   crawl_timestamp          20000 non-null  object \n",
            " 2   product_url              20000 non-null  object \n",
            " 3   product_name             20000 non-null  object \n",
            " 4   product_category_tree    20000 non-null  object \n",
            " 5   pid                      20000 non-null  object \n",
            " 6   retail_price             19922 non-null  float64\n",
            " 7   discounted_price         19922 non-null  float64\n",
            " 8   image                    19997 non-null  object \n",
            " 9   is_FK_Advantage_product  20000 non-null  bool   \n",
            " 10  description              19998 non-null  object \n",
            " 11  product_rating           20000 non-null  object \n",
            " 12  overall_rating           20000 non-null  object \n",
            " 13  brand                    14136 non-null  object \n",
            " 14  product_specifications   19986 non-null  object \n",
            "dtypes: bool(1), float64(2), object(12)\n",
            "memory usage: 2.2+ MB\n"
          ],
          "name": "stdout"
        }
      ]
    },
    {
      "cell_type": "code",
      "metadata": {
        "colab": {
          "base_uri": "https://localhost:8080/"
        },
        "id": "Qshsg7bvxB6p",
        "outputId": "7a4a290f-ea50-4dfe-cc58-dc994604eed5"
      },
      "source": [
        "df['product_name']"
      ],
      "execution_count": 10,
      "outputs": [
        {
          "output_type": "execute_result",
          "data": {
            "text/plain": [
              "0            Alisha Solid Women's Cycling Shorts\n",
              "1            FabHomeDecor Fabric Double Sofa Bed\n",
              "2                                     AW Bellies\n",
              "3            Alisha Solid Women's Cycling Shorts\n",
              "4          Sicons All Purpose Arnica Dog Shampoo\n",
              "                          ...                   \n",
              "19995             WallDesign Small Vinyl Sticker\n",
              "19996    Wallmantra Large Vinyl Stickers Sticker\n",
              "19997    Elite Collection Medium Acrylic Sticker\n",
              "19998    Elite Collection Medium Acrylic Sticker\n",
              "19999    Elite Collection Medium Acrylic Sticker\n",
              "Name: product_name, Length: 20000, dtype: object"
            ]
          },
          "metadata": {
            "tags": []
          },
          "execution_count": 10
        }
      ]
    },
    {
      "cell_type": "code",
      "metadata": {
        "colab": {
          "base_uri": "https://localhost:8080/"
        },
        "id": "H0IPMrscxEfM",
        "outputId": "4e459b94-8221-441c-e3d5-9ddd6d0bc442"
      },
      "source": [
        "#unique product names in crawler data\r\n",
        "df['product_name'].unique()"
      ],
      "execution_count": 11,
      "outputs": [
        {
          "output_type": "execute_result",
          "data": {
            "text/plain": [
              "array([\"Alisha Solid Women's Cycling Shorts\",\n",
              "       'FabHomeDecor Fabric Double Sofa Bed', 'AW Bellies', ...,\n",
              "       'We Witches Comfy Hues Women Wedges', 'Stylistry Women Heels',\n",
              "       'Uberlyfe Extra Large Vinyl Sticker'], dtype=object)"
            ]
          },
          "metadata": {
            "tags": []
          },
          "execution_count": 11
        }
      ]
    },
    {
      "cell_type": "code",
      "metadata": {
        "colab": {
          "base_uri": "https://localhost:8080/"
        },
        "id": "mDAB_QnvxHBy",
        "outputId": "158897c1-7f7e-43cf-8501-a9ffb92414a6"
      },
      "source": [
        "#number of products\r\n",
        "len(df['product_name'].unique())"
      ],
      "execution_count": 12,
      "outputs": [
        {
          "output_type": "execute_result",
          "data": {
            "text/plain": [
              "12676"
            ]
          },
          "metadata": {
            "tags": []
          },
          "execution_count": 12
        }
      ]
    },
    {
      "cell_type": "code",
      "metadata": {
        "colab": {
          "base_uri": "https://localhost:8080/"
        },
        "id": "6ynLHs6GxJRv",
        "outputId": "77cd7e81-2504-4e40-d964-58995d91e3e1"
      },
      "source": [
        "df['product_name'].value_counts()"
      ],
      "execution_count": 13,
      "outputs": [
        {
          "output_type": "execute_result",
          "data": {
            "text/plain": [
              "TheLostPuppy Back Cover for Apple iPad Air                    134\n",
              "TheLostPuppy Back Cover for Apple iPad Air 2                   95\n",
              "S4S Stylish Women's Push-up Bra                                94\n",
              "Voylla Metal, Alloy Necklace                                   66\n",
              "WallDesign Small Vinyl Sticker                                 65\n",
              "                                                             ... \n",
              "Vibrandz Grab Smart Phone Holder - MLVC-04                      1\n",
              "Bike World Brake Light, Tail Light LED Bulb for  Volvo VNL      1\n",
              "Allin Exporters Fennel Oil (Co2 Extract)                        1\n",
              "keco Women Heels                                                1\n",
              "Charvee Acrylic Bangle                                          1\n",
              "Name: product_name, Length: 12676, dtype: int64"
            ]
          },
          "metadata": {
            "tags": []
          },
          "execution_count": 13
        }
      ]
    },
    {
      "cell_type": "code",
      "metadata": {
        "colab": {
          "base_uri": "https://localhost:8080/"
        },
        "id": "jlEMBIC4xLjp",
        "outputId": "b31f80c5-d48e-429d-de11-da8a0946d80d"
      },
      "source": [
        "#product with highest number of repetitions\r\n",
        "df['product_name'].value_counts().sort_values(ascending=False).iloc[0:30]"
      ],
      "execution_count": 14,
      "outputs": [
        {
          "output_type": "execute_result",
          "data": {
            "text/plain": [
              "TheLostPuppy Back Cover for Apple iPad Air                          134\n",
              "TheLostPuppy Back Cover for Apple iPad Air 2                         95\n",
              "S4S Stylish Women's Push-up Bra                                      94\n",
              "Voylla Metal, Alloy Necklace                                         66\n",
              "WallDesign Small Vinyl Sticker                                       65\n",
              "HomeeHub Polyester Multicolor Self Design Eyelet Door Curtain        58\n",
              "DailyObjects Back Cover for Apple iPad 2/3/4                         52\n",
              "Nimya Solid Men's Polo Neck T-Shirt                                  50\n",
              "S4S Comfortable Women's Full Coverage Bra                            45\n",
              "Grafion by Grafion - Comfort Feel Women's Full Coverage Bra          44\n",
              "Theskinmantra Sleeve for All versions of Apple ipad                  43\n",
              "DailyObjects Back Cover for Apple iPad Mini/Retina Display           42\n",
              "First Smart Deal Plant Container Set                                 42\n",
              "Grafion Comfortable Women's Full Coverage Bra                        40\n",
              "Fashion Jewellery Alloy Necklace                                     39\n",
              "Enthopia Back Cover for iPad Mini, iPad Mini 2, iPad Mini Retina     39\n",
              "HomeeHub Polyester Multicolor Self Design Eyelet Window Curtain      37\n",
              "Okane Printed Men's Round Neck T-Shirt                               37\n",
              "Jewel Paradise Brass Plated Brass Necklace                           37\n",
              "Kuhuk Plastic Bangle Set                                             37\n",
              "Vaishali Bindi and Bangles Brass, Copper Bangle Set                  37\n",
              "DeStudio Tiny Wall Sticker                                           36\n",
              "DailyObjects Back Cover for Apple iPad 2, 3, 4                       36\n",
              "NE Women's Leggings                                                  35\n",
              "Fuson Back Cover for Samsung Galaxy J7                               33\n",
              "Tootpado Art Plastic Punches & Punching Machines                     32\n",
              "Navaksha Necktie Men's  Combo                                        32\n",
              "Jewelizer Alloy Necklace                                             32\n",
              "Ocean Race Graphic Print Men's Round Neck T-Shirt                    31\n",
              "Wallmantra Extra Large Vinyl Stickers Sticker                        31\n",
              "Name: product_name, dtype: int64"
            ]
          },
          "metadata": {
            "tags": []
          },
          "execution_count": 14
        }
      ]
    },
    {
      "cell_type": "code",
      "metadata": {
        "colab": {
          "base_uri": "https://localhost:8080/",
          "height": 515
        },
        "id": "GMA1UNmrxO9V",
        "outputId": "732d53fb-e701-4b4a-f6b2-f225b4eb3821"
      },
      "source": [
        "freq = df['product_name'].value_counts().sort_values(ascending=False).iloc[0:15]\r\n",
        "plt.figure(figsize=(20,3))\r\n",
        "sns.barplot(freq.index, freq.values, palette=\"Purples_r\")\r\n",
        "plt.ylabel(\"Counts\")\r\n",
        "plt.title(\"Which product names are most common?\");\r\n",
        "plt.xticks(rotation=90);"
      ],
      "execution_count": 15,
      "outputs": [
        {
          "output_type": "stream",
          "text": [
            "/usr/local/lib/python3.6/dist-packages/seaborn/_decorators.py:43: FutureWarning: Pass the following variables as keyword args: x, y. From version 0.12, the only valid positional argument will be `data`, and passing other arguments without an explicit keyword will result in an error or misinterpretation.\n",
            "  FutureWarning\n"
          ],
          "name": "stderr"
        },
        {
          "output_type": "display_data",
          "data": {
            "image/png": "[encoded data removed]",
            "text/plain": [
              "<Figure size 1440x216 with 1 Axes>"
            ]
          },
          "metadata": {
            "tags": [],
            "needs_background": "light"
          }
        }
      ]
    },
    {
      "cell_type": "code",
      "metadata": {
        "colab": {
          "base_uri": "https://localhost:8080/"
        },
        "id": "Efi637IixSHZ",
        "outputId": "0487058d-5c00-41f9-eae8-365cfc61e27e"
      },
      "source": [
        "#product category - higest\r\n",
        "df['product_category_tree'].value_counts()"
      ],
      "execution_count": 16,
      "outputs": [
        {
          "output_type": "execute_result",
          "data": {
            "text/plain": [
              "[\"Jewellery >> Necklaces & Chains >> Necklaces\"]                                                                            1567\n",
              "[\"Jewellery >> Rings\"]                                                                                                       710\n",
              "[\"Automotive >> Accessories & Spare parts >> Car Interior & Exterior >> Car Interior >> Car Mats\"]                           522\n",
              "[\"Jewellery >> Bangles, Bracelets & Armlets >> Bangles\"]                                                                     430\n",
              "[\"Tools & Hardware >> Tools >> Gardening Tools >> Plant Containers & Sets >> Plant Container Sets\"]                          332\n",
              "                                                                                                                            ... \n",
              "[\"Kitchen & Dining >> Housekeeping & Laundry >> Home Cleaning >> Dustbins >> Planet Dustbins\"]                                 1\n",
              "[\"Home Decor & Festive Needs >> Showpieces >> Ethnic >> Mahadev Handicrafts Ethnic\"]                                           1\n",
              "[\"Clothing >> Men's Clothing >> Trousers >> IndiWeaves Trousers >> IndiWeaves Regular Fit Men's Linen Beige, Blue T...\"]       1\n",
              "[\"Pens & Stationery >> School Supplies >> Geometry, Pen & Pencil boxes >> Pencil Boxes >> vendout Pencil Boxes\"]               1\n",
              "[\"Beauty and Personal Care >> Makeup >> Vanity Boxes >> Aaina Home Decor Vanity Boxes\"]                                        1\n",
              "Name: product_category_tree, Length: 6466, dtype: int64"
            ]
          },
          "metadata": {
            "tags": []
          },
          "execution_count": 16
        }
      ]
    },
    {
      "cell_type": "code",
      "metadata": {
        "colab": {
          "base_uri": "https://localhost:8080/"
        },
        "id": "k9NI8ozQxUrE",
        "outputId": "ff5b81d3-4f3d-4e9e-ff13-955bdfb1b6e6"
      },
      "source": [
        "#unique category trees\r\n",
        "len(df['product_category_tree'].unique())"
      ],
      "execution_count": 17,
      "outputs": [
        {
          "output_type": "execute_result",
          "data": {
            "text/plain": [
              "6466"
            ]
          },
          "metadata": {
            "tags": []
          },
          "execution_count": 17
        }
      ]
    },
    {
      "cell_type": "code",
      "metadata": {
        "colab": {
          "base_uri": "https://localhost:8080/"
        },
        "id": "HhGGfHgUxXiR",
        "outputId": "746f98df-9fea-4cd0-9a73-0feb36a51c07"
      },
      "source": [
        "len(df['brand'].unique())"
      ],
      "execution_count": 18,
      "outputs": [
        {
          "output_type": "execute_result",
          "data": {
            "text/plain": [
              "3500"
            ]
          },
          "metadata": {
            "tags": []
          },
          "execution_count": 18
        }
      ]
    },
    {
      "cell_type": "code",
      "metadata": {
        "id": "hv3XDbK9xaFU"
      },
      "source": [
        "EDA Result\r\n",
        "1. number of unique products in df?\r\n",
        "2. number of category trees?\r\n",
        "3. most common products?\r\n",
        "4. most common category?"
      ],
      "execution_count": null,
      "outputs": []
    }
  ]
}